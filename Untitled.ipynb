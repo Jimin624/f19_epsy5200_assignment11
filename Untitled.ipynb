{
 "cells": [
  {
   "cell_type": "markdown",
   "metadata": {},
   "source": [
    "# EPSY 5200: Programming for Social Science Researchers\n",
    "## Assignment 11\n",
    "### Due Wednesday, November 20, 2019 by 2:30pm"
   ]
  },
  {
   "cell_type": "markdown",
   "metadata": {},
   "source": [
    "#### Problem 1\n",
    "a) Fork this GitHub respoitory to your own account, then clone to your hard drive with GitKraken.  After finishing EACH problem below, make sure to STAGE and COMMIT with a comment.  Then PUSH back to GitHub.\n",
    "\n",
    "b) Load helpful libraries in this Jupyter Notebook.\n",
    "\n",
    "c) Import the *MA_Public_Schools_2017.csv* file as a pandas data frame.  Note: these data are from Kaggle: https://www.kaggle.com/ndalziel/massachusetts-public-schools-data and I have already removed a lot of columns.\n",
    "\n",
    "d) Find the descriptives for numeric columns."
   ]
  },
  {
   "cell_type": "code",
   "execution_count": null,
   "metadata": {},
   "outputs": [],
   "source": [
    "# Problem 1 code here (can split into multiple code chunks if you want)"
   ]
  },
  {
   "attachments": {},
   "cell_type": "markdown",
   "metadata": {},
   "source": [
    "#### Problem 2\n",
    "a) Remove the District Code column.\n",
    "b) Create a new column called \"TOTAL_Enrollment\" that is the sum of all columns that end in \"Enrollment\".\n",
    "c) Compute the mean of \"TOTAL_Enrollment\" for each District. (Hint: groupby)"
   ]
  },
  {
   "cell_type": "code",
   "execution_count": null,
   "metadata": {},
   "outputs": [],
   "source": [
    "# Problem 2 code here (can split into multiple code chunks if you want)"
   ]
  },
  {
   "cell_type": "markdown",
   "metadata": {},
   "source": [
    "#### Problem 3\n",
    "a) Visualize the bivariate relationships among Average Class Size, Average Salary, % Economically Disadvantaged, and % English Language Learner.  Use the Seaborn function **pairplot**.\n",
    "\n",
    "b) Describe what you see from the plots.\n",
    "\n",
    "c) Based on your observations from 3b, and as a completely post-hoc, exploratory analysis, choose one of the 4 measures from 3a to be an outcome variable, and a second measure to be a predictor variable.  Then run a linear regression, print the summary, and write a couple sentences interpreting the results."
   ]
  },
  {
   "cell_type": "code",
   "execution_count": null,
   "metadata": {},
   "outputs": [],
   "source": [
    "# Problem 3 code here (can split into multiple code chunks if you want)"
   ]
  },
  {
   "cell_type": "markdown",
   "metadata": {},
   "source": [
    "#### Problem 4\n",
    "a) Create a new linear regression model that takes the model from 3c and adds both of the remaining variables from 3a as additional predictor variables, print the summary, and write a couple sentences interpreting the results, especially comparing it to Problem 3c.  \n",
    "\n",
    "b) Add School Type as another predictor to your model.  Interpret the new predictor in your output"
   ]
  }
 ],
 "metadata": {
  "kernelspec": {
   "display_name": "Python 3",
   "language": "python",
   "name": "python3"
  },
  "language_info": {
   "codemirror_mode": {
    "name": "ipython",
    "version": 3
   },
   "file_extension": ".py",
   "mimetype": "text/x-python",
   "name": "python",
   "nbconvert_exporter": "python",
   "pygments_lexer": "ipython3",
   "version": "3.7.4"
  }
 },
 "nbformat": 4,
 "nbformat_minor": 2
}
